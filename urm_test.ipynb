{
 "cells": [
  {
   "cell_type": "code",
   "execution_count": 1,
   "metadata": {
    "cellView": "form",
    "id": "T5f4w3Kq2X14"
   },
   "outputs": [],
   "source": [
    "#@title Import packages for plotting and creating graphics\n",
    "import time\n",
    "import itertools\n",
    "import numpy as np\n",
    "from typing import Callable, NamedTuple, Optional, Union, List\n",
    "\n",
    "import mediapy as media\n",
    "import matplotlib.pyplot as plt\n",
    "\n",
    "# More legible printing from numpy.\n",
    "np.set_printoptions(precision=3, suppress=True, linewidth=100)"
   ]
  },
  {
   "cell_type": "code",
   "execution_count": 2,
   "metadata": {
    "cellView": "form",
    "id": "ObF1UXrkb0Nd"
   },
   "outputs": [
    {
     "ename": "ModuleNotFoundError",
     "evalue": "No module named 'mjx'",
     "output_type": "error",
     "traceback": [
      "\u001b[0;31m---------------------------------------------------------------------------\u001b[0m",
      "\u001b[0;31mModuleNotFoundError\u001b[0m                       Traceback (most recent call last)",
      "Cell \u001b[0;32mIn[2], line 24\u001b[0m\n\u001b[1;32m     21\u001b[0m \u001b[38;5;28;01mfrom\u001b[39;00m \u001b[38;5;21;01mmujoco\u001b[39;00m \u001b[38;5;28;01mimport\u001b[39;00m mjx\n\u001b[1;32m     23\u001b[0m \u001b[38;5;28;01mfrom\u001b[39;00m \u001b[38;5;21;01mbrax\u001b[39;00m \u001b[38;5;28;01mimport\u001b[39;00m base\n\u001b[0;32m---> 24\u001b[0m \u001b[38;5;28;01mfrom\u001b[39;00m \u001b[38;5;21;01mbrax\u001b[39;00m \u001b[38;5;28;01mimport\u001b[39;00m envs\n\u001b[1;32m     25\u001b[0m \u001b[38;5;28;01mfrom\u001b[39;00m \u001b[38;5;21;01mbrax\u001b[39;00m \u001b[38;5;28;01mimport\u001b[39;00m math\n\u001b[1;32m     26\u001b[0m \u001b[38;5;28;01mfrom\u001b[39;00m \u001b[38;5;21;01mbrax\u001b[39;00m\u001b[38;5;21;01m.\u001b[39;00m\u001b[38;5;21;01mbase\u001b[39;00m \u001b[38;5;28;01mimport\u001b[39;00m Base, Motion, Transform\n",
      "File \u001b[0;32m~/tyenv/brax/brax/envs/__init__.py:33\u001b[0m\n\u001b[1;32m     31\u001b[0m \u001b[38;5;28;01mfrom\u001b[39;00m \u001b[38;5;21;01mbrax\u001b[39;00m\u001b[38;5;21;01m.\u001b[39;00m\u001b[38;5;21;01menvs\u001b[39;00m \u001b[38;5;28;01mimport\u001b[39;00m swimmer\n\u001b[1;32m     32\u001b[0m \u001b[38;5;28;01mfrom\u001b[39;00m \u001b[38;5;21;01mbrax\u001b[39;00m\u001b[38;5;21;01m.\u001b[39;00m\u001b[38;5;21;01menvs\u001b[39;00m \u001b[38;5;28;01mimport\u001b[39;00m walker2d\n\u001b[0;32m---> 33\u001b[0m \u001b[38;5;28;01mfrom\u001b[39;00m \u001b[38;5;21;01mbrax\u001b[39;00m\u001b[38;5;21;01m.\u001b[39;00m\u001b[38;5;21;01menvs\u001b[39;00m \u001b[38;5;28;01mimport\u001b[39;00m urm\n\u001b[1;32m     34\u001b[0m \u001b[38;5;28;01mfrom\u001b[39;00m \u001b[38;5;21;01mbrax\u001b[39;00m\u001b[38;5;21;01m.\u001b[39;00m\u001b[38;5;21;01menvs\u001b[39;00m\u001b[38;5;21;01m.\u001b[39;00m\u001b[38;5;21;01mbase\u001b[39;00m \u001b[38;5;28;01mimport\u001b[39;00m Env, PipelineEnv, State, Wrapper\n\u001b[1;32m     35\u001b[0m \u001b[38;5;28;01mfrom\u001b[39;00m \u001b[38;5;21;01mbrax\u001b[39;00m\u001b[38;5;21;01m.\u001b[39;00m\u001b[38;5;21;01menvs\u001b[39;00m\u001b[38;5;21;01m.\u001b[39;00m\u001b[38;5;21;01mwrappers\u001b[39;00m \u001b[38;5;28;01mimport\u001b[39;00m training\n",
      "File \u001b[0;32m~/tyenv/brax/brax/envs/urm.py:7\u001b[0m\n\u001b[1;32m      5\u001b[0m \u001b[38;5;28;01mimport\u001b[39;00m \u001b[38;5;21;01mmujoco\u001b[39;00m\n\u001b[1;32m      6\u001b[0m \u001b[38;5;28;01mimport\u001b[39;00m \u001b[38;5;21;01mnumpy\u001b[39;00m \u001b[38;5;28;01mas\u001b[39;00m \u001b[38;5;21;01mnp\u001b[39;00m\n\u001b[0;32m----> 7\u001b[0m \u001b[38;5;28;01mimport\u001b[39;00m \u001b[38;5;21;01mmjx\u001b[39;00m\n\u001b[1;32m      9\u001b[0m \u001b[38;5;28;01mclass\u001b[39;00m \u001b[38;5;21;01mTwoArmBinary\u001b[39;00m(PipelineEnv):\n\u001b[1;32m     11\u001b[0m   \u001b[38;5;28;01mdef\u001b[39;00m \u001b[38;5;21m__init__\u001b[39m(\n\u001b[1;32m     12\u001b[0m       \u001b[38;5;28mself\u001b[39m,\n\u001b[1;32m     13\u001b[0m       forward_reward_weight\u001b[38;5;241m=\u001b[39m\u001b[38;5;241m1.25\u001b[39m,\n\u001b[0;32m   (...)\u001b[0m\n\u001b[1;32m     20\u001b[0m       \u001b[38;5;241m*\u001b[39m\u001b[38;5;241m*\u001b[39mkwargs,\n\u001b[1;32m     21\u001b[0m   ):\n",
      "\u001b[0;31mModuleNotFoundError\u001b[0m: No module named 'mjx'"
     ]
    }
   ],
   "source": [
    "#@title Import MuJoCo, MJX, and Brax\n",
    "from datetime import datetime\n",
    "from etils import epath\n",
    "import functools\n",
    "from IPython.display import HTML\n",
    "from typing import Any, Dict, Sequence, Tuple, Union\n",
    "import os\n",
    "# from ml_collections import config_dict\n",
    "\n",
    "\n",
    "import jax\n",
    "from jax import numpy as jp\n",
    "import numpy as np\n",
    "# from flax.training import orbax_utils\n",
    "# from flax import struct\n",
    "from matplotlib import pyplot as plt\n",
    "import mediapy as media\n",
    "# from orbax import checkpoint as ocp\n",
    "\n",
    "import mujoco\n",
    "from mujoco import mjx\n",
    "\n",
    "from brax import base\n",
    "from brax import envs\n",
    "from brax import math\n",
    "from brax.base import Base, Motion, Transform\n",
    "from brax.envs.base import Env, PipelineEnv, State\n",
    "from brax.mjx.base import State as MjxState\n",
    "from brax.training.agents.ppo import train as ppo\n",
    "from brax.training.agents.ppo import networks as ppo_networks\n",
    "from brax.io import html, mjcf, model\n",
    "from brax.base import System\n",
    "\n",
    "from copy import deepcopy as dc"
   ]
  },
  {
   "cell_type": "markdown",
   "metadata": {
    "id": "RAv6WUVUm78k"
   },
   "source": [
    "# TwoArm URM Env\n"
   ]
  },
  {
   "cell_type": "code",
   "execution_count": 12,
   "metadata": {
    "id": "mtGMYNLE3QJN"
   },
   "outputs": [],
   "source": [
    "# #@title TwoArm Env\n",
    "\n",
    "\n",
    "# class TwoArm(PipelineEnv):\n",
    "\n",
    "#   def __init__(\n",
    "#       self,\n",
    "#       forward_reward_weight=1.25,\n",
    "#       ctrl_cost_weight=0.1,\n",
    "#       healthy_reward=5.0,\n",
    "#       terminate_when_unhealthy=True,\n",
    "#       healthy_z_range=(1.0, 2.0),\n",
    "#       reset_noise_scale=1e-2,\n",
    "#       exclude_current_positions_from_observation=True,\n",
    "#       **kwargs,\n",
    "#   ):\n",
    "#     d = 0.15\n",
    "#     l1, l2 = 0.14, 0.14\n",
    "#     bs = 0.15\n",
    "#     q_limit = 2.5\n",
    "#     savevideo =False\n",
    "\n",
    "#     xml = '''\n",
    "#     <mujoco>\n",
    "#         <compiler angle=\"radian\" />\n",
    "#         <option  timestep=\"0.001\" gravity=\"0 0 0\"/>\n",
    "#         <default>\n",
    "#           <geom solref=\"0.002 1\" contype=\"1\" conaffinity=\"1\" friction=\"0.3 0.005 0.0001\" />\n",
    "#           <joint  armature=\"0.01\" range=\"-{5} {5}\"/>\n",
    "#         </default>\n",
    "#         <visual>\n",
    "#           <map stiffness=\"10000\"/>\n",
    "#           <global offheight=\"1280\" offwidth=\"1280\"/>\n",
    "#         </visual>\n",
    "#         <asset>\n",
    "#           <texture type=\"skybox\" builtin=\"gradient\" rgb1=\".3 .5 .7\" rgb2=\"0 0 0\" width=\"32\" height=\"512\"/>\n",
    "#           <texture name=\"body\" type=\"cube\" builtin=\"flat\" mark=\"cross\" width=\"128\" height=\"128\" rgb1=\"0.8 0.6 0.4\" rgb2=\"0.8 0.6 0.4\" markrgb=\"1 1 1\"/>\n",
    "#           <material name=\"body\" texture=\"body\" texuniform=\"true\" rgba=\"0.8 0.6 .4 1\"/>\n",
    "#           <texture name=\"grid\" type=\"2d\" builtin=\"checker\" width=\"512\" height=\"512\" rgb1=\".1 .2 .3\" rgb2=\".2 .3 .4\"/>\n",
    "#           <material name=\"grid\" texture=\"grid\" texrepeat=\"4 4\" texuniform=\"false\" reflectance=\".0\"/>\n",
    "#         </asset>\n",
    "\n",
    "#         <worldbody>\n",
    "#             <geom name=\"floor\" type=\"plane\" size=\".4 .4 0.01\" material=\"grid\" pos=\"0 0.2 -0.025\"/>\n",
    "#             <camera name=\"top\" pos=\"0 0 1.0\" resolution=\"1280 1280\"/>\n",
    "#             <body name=\"robot\">\n",
    "#             <geom name=\"base\" type=\"capsule\" size=\"0.01\" fromto=\"-{3} -0.02 0 {3} -0.02 0\" />\n",
    "#             <body name=\"R1\" pos=\"{0} 0 0.0\">\n",
    "#                 <geom type=\"capsule\" size=\"0.01\" fromto=\"0 0 0 0 {1} 0\" rgba=\"0 0 0 1\"/>\n",
    "#                 <joint name=\"R1j\" type=\"hinge\" pos=\"0 0 0\" axis=\"0 0 1\" />\n",
    "#                 <body name=\"R2\" pos=\"0 {1} 0\">\n",
    "#                     <geom type=\"capsule\" size=\"0.01\" fromto=\"0 0 0 0 {2} 0\" />\n",
    "#                     <joint name=\"R2j\" type=\"hinge\" pos=\"0 0 0\" axis=\"0 0 1\" />\n",
    "#                 </body>\n",
    "#             </body>\n",
    "#             <body name=\"L1\" pos=\"-{0} 0 0\">\n",
    "#                 <geom type=\"capsule\" size=\"0.01\" fromto=\"0 0 0 0 {1} 0\" rgba=\"0 0 0 1\"/>\n",
    "#                 <joint name=\"L1j\" type=\"hinge\" pos=\"0 0 0\" axis=\"0 0 1\" />\n",
    "#                 <body name=\"L2\" pos=\"0 {1} 0\">\n",
    "#                     <geom type=\"capsule\" size=\"0.01\" fromto=\"0 0 0 0 {2} 0\"/>\n",
    "#                     <joint name=\"L2j\" type=\"hinge\" pos=\"0 0 0\" axis=\"0 0 1\" />\n",
    "#                 </body>\n",
    "#             </body>\n",
    "#             </body>\n",
    "#             <body name=\"obj\" pos=\"0 {4} 0.0\">\n",
    "#               <joint type=\"slide\" axis=\"1 0 0\"/>\n",
    "#               <joint type=\"slide\" axis=\"0 1 0\"/>\n",
    "#               <joint type=\"hinge\" axis=\"0 0 1\"/>\n",
    "#               <!-- <geom type=\"capsule\" size=\"{4} 0.025\" pos=\"0 0 0\"/> -->\n",
    "#               <geom type=\"box\" size=\"{4} {4} 0.025\" pos=\"0 0 0\"/> \n",
    "#               <!-- <geom type=\"box\" size=\"{4} 0.01 0.025\" pos=\"0 0 0\"/> -->\n",
    "#               <!-- <geom type=\"box\" size=\"0.01 {4} 0.025\" pos=\"0 0 0\"/> -->\n",
    "#               <!-- <geom type=\"box\" size=\"0.02 0.02 0.025\" pos=\"0 0 0\"/> -->\n",
    "#             </body>\n",
    "\n",
    "#         </worldbody>\n",
    "\n",
    "#         <actuator>\n",
    "#           <general joint=\"R1j\"/>\n",
    "#           <general joint=\"R2j\"/>\n",
    "#           <general joint=\"L1j\"/>\n",
    "#           <general joint=\"L2j\"/>\n",
    "#           <damper joint=\"R1j\" ctrlrange=\"0 100000\" kv=\"1\"/>\n",
    "#           <damper joint=\"R2j\" ctrlrange=\"0 100000\" kv=\"1\"/>\n",
    "#           <damper joint=\"L1j\" ctrlrange=\"0 100000\" kv=\"1\"/>\n",
    "#           <damper joint=\"L2j\" ctrlrange=\"0 100000\" kv=\"1\"/>\n",
    "#         </actuator>\n",
    "\n",
    "#     </mujoco>\n",
    "#     '''.format(d, l1, l2, d - 0.02, bs/2, q_limit)\n",
    "#     mj_model = mujoco.MjModel.from_xml_string(xml)\n",
    "#     # mj_model.opt.solver = mujoco.mjtSolver.mjSOL_CG\n",
    "#     # mj_model.opt.iterations = 6\n",
    "#     # mj_model.opt.ls_iterations = 6\n",
    "\n",
    "#     sys = mjcf.load_model(mj_model)\n",
    "\n",
    "#     self.steps_per_control_step = 50\n",
    "#     kwargs['n_frames'] = kwargs.get(\n",
    "#         'n_frames', 1)\n",
    "#     kwargs['backend'] = 'mjx'\n",
    "\n",
    "#     super().__init__(sys, **kwargs)\n",
    "\n",
    "#     self.e_list = jp.zeros((16, 4))\n",
    "#     ct = 0\n",
    "#     for i in range(2):\n",
    "#       for j in range(2):\n",
    "#         for k in range(2):\n",
    "#           for l in range(2):\n",
    "#             self.e_list = self.e_list.at[ct].set( jp.array([ (-1.0)**(i), (-1.0)**(j), (-1.0)**(k), (-1.0)**(l)  ]))\n",
    "#             ct +=1\n",
    "#     self.q_limit = q_limit\n",
    "\n",
    "#     self._forward_reward_weight = forward_reward_weight\n",
    "#     self._ctrl_cost_weight = ctrl_cost_weight\n",
    "#     self._healthy_reward = healthy_reward\n",
    "#     self._terminate_when_unhealthy = terminate_when_unhealthy\n",
    "#     self._healthy_z_range = healthy_z_range\n",
    "#     self._reset_noise_scale = reset_noise_scale\n",
    "#     self._exclude_current_positions_from_observation = (\n",
    "#         exclude_current_positions_from_observation\n",
    "#     )\n",
    "  \n",
    "#   def transmission(self, d, w, e, f):\n",
    "#     v = d.qvel[0:4]\n",
    "#     ctrl = jp.zeros(self.sys.nu)\n",
    "#     # ctrl.at[:4] = e * f\n",
    "#     # ctrl.at[4:8] = jp.abs(v) * w\n",
    "#     # return ctrl\n",
    "#     return jp.concatenate([e*f, jp.abs(v) * w])\n",
    "  \n",
    "#   # def controller(self, d, e_idx, q_target):\n",
    "#   def controller(self, d, action):\n",
    "#     idx = jp.argmax(action)\n",
    "#     e = self.e_list[idx].squeeze()\n",
    "\n",
    "#     q = d.qpos[0:4]\n",
    "#     v = d.qvel[0:4]\n",
    "#     kp = 10.0\n",
    "\n",
    "#     f = kp* (jp.dot(e,(e * self.q_limit  - q - 2 * np.sqrt([0.01/kp]) * v)))\n",
    "#     w = 0.1\n",
    "#     return w, e, f\n",
    "\n",
    "#   def reset(self, rng: jp.ndarray) -> State:\n",
    "#     \"\"\"Resets the environment to an initial state.\"\"\"\n",
    "#     rng, rng1, rng2 = jax.random.split(rng, 3)\n",
    "\n",
    "#     low, hi = -self._reset_noise_scale, self._reset_noise_scale\n",
    "#     qpos = self.sys.qpos0 + 0.0 * jax.random.uniform(\n",
    "#         rng1, (self.sys.nq,), minval=low, maxval=hi\n",
    "#     )\n",
    "#     qvel = 0.0 * jax.random.uniform(\n",
    "#         rng2, (self.sys.nv,), minval=low, maxval=hi\n",
    "#     )\n",
    "\n",
    "#     data = self.pipeline_init(qpos, qvel)\n",
    "\n",
    "#     obs = self._get_obs(data, jp.zeros(self.sys.nu))\n",
    "#     reward, done, zero = jp.zeros(3)\n",
    "#     metrics = {\n",
    "#         'reward': zero,\n",
    "#         'y_reward': zero, \n",
    "#         'x_reward': zero,\n",
    "#         'theta_reward': zero\n",
    "#     }\n",
    "#     return State(data, obs, reward, done, metrics)\n",
    "\n",
    "#   @property\n",
    "#   def action_size(self) -> int:\n",
    "#     return 16\n",
    "\n",
    "#   @property\n",
    "#   def dt(self) -> float:\n",
    "#     return self.sys.opt.timestep * self.steps_per_control_step\n",
    "\n",
    "#   def step(self, state: State, action: jp.ndarray) -> State:\n",
    "#     \"\"\"Runs one timestep of the environment's dynamics.\"\"\"\n",
    "#     data = state.pipeline_state\n",
    "\n",
    "#     def f(d, _):\n",
    "#       w, e, f = self.controller(d, action)\n",
    "#       ctrl = self.transmission(d, w, e, f)\n",
    "#       return (self._pipeline.step(self.sys, d, ctrl, self._debug), None)\n",
    "#     # for _ in range(self.steps_per_control_step ):\n",
    "#     #   w, e, f = self.controller(data, action)\n",
    "#     #   ctrl = self.transmission(data, w, e, f)\n",
    "#     #   data = self.pipeline_step(data, ctrl)\n",
    "#     data = jax.lax.scan(f, data, (), self.steps_per_control_step)[0]\n",
    "\n",
    "    \n",
    "#     obs = self._get_obs(data, action)\n",
    "#     x_reward = -data.qpos[4] * data.qpos[4]\n",
    "#     y_reward = -data.qpos[5] * data.qpos[5]\n",
    "#     theta_reward = -(data.qpos[6] - 1.57) * (data.qpos[6] - 1.57)\n",
    "#     reward =  theta_reward + 10.0 * y_reward# forward_reward + healthy_reward - ctrl_cost\n",
    "#     done = 0.0\n",
    "#     state.metrics.update(\n",
    "#         reward = reward,\n",
    "#         y_reward = y_reward,\n",
    "#         x_reward = x_reward\n",
    "#     )\n",
    "\n",
    "#     return state.replace(\n",
    "#         pipeline_state=data, obs=obs, reward=reward, done=done\n",
    "#     )\n",
    "\n",
    "#   def _get_obs(\n",
    "#       self, data: mjx.Data, action: jp.ndarray\n",
    "#   ) -> jp.ndarray:\n",
    "#     \"\"\"Observes humanoid body position, velocities, and angles.\"\"\"\n",
    "#     # external_contact_forces are excluded\n",
    "#     return jp.concatenate([\n",
    "#         data.qpos,\n",
    "#         data.qvel\n",
    "#     ])\n",
    "\n",
    "\n",
    "# envs.register_environment('twoarm', TwoArm)"
   ]
  },
  {
   "cell_type": "markdown",
   "metadata": {
    "id": "P1K6IznI2y83"
   },
   "source": [
    "## Visualize a Rollout\n",
    "\n",
    "Let's instantiate the environment and visualize a short rollout.\n",
    "\n",
    "NOTE: Since episodes terminates early if the torso is below the healthy z-range, the only relevant contacts for this task are between the feet and the plane. We turn off other contacts."
   ]
  },
  {
   "cell_type": "code",
   "execution_count": null,
   "metadata": {
    "id": "EhKLFK54C1CH"
   },
   "outputs": [],
   "source": [
    "# instantiate the environment\n",
    "env_name = 'urm2arm_prop'\n",
    "env = envs.get_environment(env_name)\n",
    "\n",
    "\n"
   ]
  },
  {
   "cell_type": "code",
   "execution_count": 5,
   "metadata": {
    "id": "Ph8u-v2Q2xLS"
   },
   "outputs": [],
   "source": [
    "# define the jit reset/step functions\n",
    "jit_reset = jax.jit(env.reset)\n",
    "jit_step = jax.jit(env.step)\n",
    "# initialize the state\n",
    "state = jit_reset(jax.random.PRNGKey(0))\n",
    "rollout = [state.pipeline_state]"
   ]
  },
  {
   "cell_type": "code",
   "execution_count": null,
   "metadata": {},
   "outputs": [],
   "source": [
    "# grab a trajectory\n",
    "key = jax.random.key(110)\n",
    "for i in range(20):\n",
    "  key, _ = jax.random.split(key,2)\n",
    "  print(env.action_size)\n",
    "  idx = jax.random.randint(key, 1, 0, env.action_size)\n",
    "  print(idx)\n",
    "  ctrl = jp.zeros(16)\n",
    "  ctrl = ctrl.at[idx].set(1.0)\n",
    "  print(idx, ctrl)\n",
    "  state = jit_step(state, ctrl)\n",
    "  # print(state.ctrl)\n",
    "  rollout.append(state.pipeline_state)\n",
    "print(\"done\")\n",
    "print(env.e_list[idx])"
   ]
  },
  {
   "cell_type": "code",
   "execution_count": null,
   "metadata": {},
   "outputs": [],
   "source": [
    "media.show_video(env.render(rollout, camera='top'), fps=1.0 / env.dt)"
   ]
  },
  {
   "cell_type": "code",
   "execution_count": null,
   "metadata": {},
   "outputs": [],
   "source": [
    "print(jax.devices('gpu')[0])"
   ]
  },
  {
   "cell_type": "markdown",
   "metadata": {
    "id": "BQDG6NQ1CbZD"
   },
   "source": [
    "## Train Two Arm URM Policy"
   ]
  },
  {
   "cell_type": "code",
   "execution_count": 3,
   "metadata": {
    "id": "xLiddQYPApBw"
   },
   "outputs": [
    {
     "ename": "NameError",
     "evalue": "name 'envs' is not defined",
     "output_type": "error",
     "traceback": [
      "\u001b[0;31m---------------------------------------------------------------------------\u001b[0m",
      "\u001b[0;31mNameError\u001b[0m                                 Traceback (most recent call last)",
      "Cell \u001b[0;32mIn[3], line 3\u001b[0m\n\u001b[1;32m      1\u001b[0m \u001b[38;5;66;03m# instantiate the environment\u001b[39;00m\n\u001b[1;32m      2\u001b[0m env_name \u001b[38;5;241m=\u001b[39m \u001b[38;5;124m'\u001b[39m\u001b[38;5;124murm2arm_prop\u001b[39m\u001b[38;5;124m'\u001b[39m\n\u001b[0;32m----> 3\u001b[0m env \u001b[38;5;241m=\u001b[39m \u001b[43menvs\u001b[49m\u001b[38;5;241m.\u001b[39mget_environment(env_name)\n\u001b[1;32m      5\u001b[0m \u001b[38;5;28;01mdef\u001b[39;00m \u001b[38;5;21mpolicy_params_fn\u001b[39m(current_step, make_policy, params):\n\u001b[1;32m      6\u001b[0m   model_path \u001b[38;5;241m=\u001b[39m \u001b[38;5;124m'\u001b[39m\u001b[38;5;124m/home/tlee_theaiinstitute_com/mjx_brax_policy/test_new_\u001b[39m\u001b[38;5;132;01m{}\u001b[39;00m\u001b[38;5;124m'\u001b[39m\u001b[38;5;241m.\u001b[39mformat(current_step)\n",
      "\u001b[0;31mNameError\u001b[0m: name 'envs' is not defined"
     ]
    }
   ],
   "source": [
    "# instantiate the environment\n",
    "env_name = 'urm2arm_prop'\n",
    "env = envs.get_environment(env_name)\n",
    "\n",
    "def policy_params_fn(current_step, make_policy, params):\n",
    "  model_path = '/home/tlee_theaiinstitute_com/mjx_brax_policy/test_new_{}'.format(current_step)\n",
    "  model.save_params(model_path, params)\n",
    "\n",
    "\n",
    "num_evals= 50\n",
    "train_fn = functools.partial(\n",
    "    ppo.train, num_timesteps=40*num_evals*1000, \n",
    "    num_evals=num_evals, reward_scaling=0.1,\n",
    "    episode_length=40, normalize_observations=False, action_repeat=1,\n",
    "    unroll_length=40, num_minibatches=10, num_updates_per_batch=2,\n",
    "    discounting=0.97, learning_rate=3e-4, entropy_cost=1e-3, num_envs=1000, clipping_epsilon=0.3,\n",
    "    batch_size=100, seed=0, discrete_action = False, spectral_norm_actor = False, policy_params_fn=policy_params_fn)\n",
    "\n",
    "\n",
    "x_data = []\n",
    "y_data = []\n",
    "ydataerr = []\n",
    "times = [datetime.now()]\n",
    "\n",
    "max_y, min_y = -400, 0\n",
    "def progress(num_steps, metrics):\n",
    "  times.append(datetime.now())\n",
    "  x_data.append(num_steps)\n",
    "  y_data.append(metrics['eval/episode_reward'])\n",
    "  ydataerr.append(metrics['eval/episode_reward_std'])\n",
    "  # print(datetime.now(), num_steps, metrics['eval/episode_reward'])\n",
    "\n",
    "  plt.xlim([0, train_fn.keywords['num_timesteps'] * 2.0])\n",
    "  plt.ylim([min_y, max_y])\n",
    "\n",
    "  plt.xlabel('# environment steps')\n",
    "  plt.ylabel('reward per episode')\n",
    "  plt.title(f'y={y_data[-1]:.3f}')\n",
    "\n",
    "  plt.errorbar(x_data, y_data, yerr=ydataerr)\n",
    "  plt.show()\n",
    "\n",
    "make_inference_fn, params, _= train_fn(environment=env, progress_fn=progress)\n",
    "\n",
    "print(f'time to jit: {times[1] - times[0]}' )\n",
    "print(f'time to train: {times[-1] - times[1]}')"
   ]
  },
  {
   "cell_type": "markdown",
   "metadata": {
    "id": "YYIch0HEApBx"
   },
   "source": [
    "<!-- ## Save and Load Policy -->\n",
    "\n",
    "We can save and load the policy using the brax model API."
   ]
  },
  {
   "cell_type": "code",
   "execution_count": 14,
   "metadata": {
    "id": "Z8gI6qH6ApBx"
   },
   "outputs": [],
   "source": [
    "#@title Save Modelz\n",
    "model_path = '/home/tlee_theaiinstitute_com/mjx_brax_policy/test'\n",
    "model.save_params(model_path, params)"
   ]
  },
  {
   "cell_type": "code",
   "execution_count": 15,
   "metadata": {
    "id": "h4reaWgxApBx"
   },
   "outputs": [],
   "source": [
    "#@title Load Model and Define Inference Function\n",
    "params = model.load_params(model_path)\n",
    "\n",
    "inference_fn = make_inference_fn(params)\n",
    "jit_inference_fn = jax.jit(inference_fn)"
   ]
  },
  {
   "cell_type": "markdown",
   "metadata": {
    "id": "0G357XIfApBy"
   },
   "source": [
    "## Visualize Policy\n",
    "\n",
    "Finally we can visualize the policy."
   ]
  },
  {
   "cell_type": "code",
   "execution_count": 16,
   "metadata": {
    "id": "osYasMw4ApBy"
   },
   "outputs": [],
   "source": [
    "eval_env = envs.get_environment(env_name)\n",
    "\n",
    "jit_reset = jax.jit(eval_env.reset)\n",
    "jit_step = jax.jit(eval_env.step)"
   ]
  },
  {
   "cell_type": "code",
   "execution_count": 17,
   "metadata": {
    "id": "d-UhypudApBy"
   },
   "outputs": [
    {
     "name": "stdout",
     "output_type": "stream",
     "text": [
      "[0. 0. 0. 0. 0. 0. 0. 1. 0. 0. 0. 0. 0. 0. 0. 0.] -2.2880535\n",
      "[0. 0. 0. 1. 0. 0. 0. 0. 0. 0. 0. 0. 0. 0. 0. 0.] -1.9910791\n",
      "[0. 0. 0. 0. 0. 1. 0. 0. 0. 0. 0. 0. 0. 0. 0. 0.] -1.881873\n",
      "[1. 0. 0. 0. 0. 0. 0. 0. 0. 0. 0. 0. 0. 0. 0. 0.] -1.8588538\n",
      "[0. 0. 0. 0. 0. 1. 0. 0. 0. 0. 0. 0. 0. 0. 0. 0.] -1.8458953\n",
      "[0. 0. 0. 1. 0. 0. 0. 0. 0. 0. 0. 0. 0. 0. 0. 0.] -1.7253674\n",
      "[0. 0. 0. 0. 1. 0. 0. 0. 0. 0. 0. 0. 0. 0. 0. 0.] -1.8250092\n",
      "[1. 0. 0. 0. 0. 0. 0. 0. 0. 0. 0. 0. 0. 0. 0. 0.] -1.5081272\n",
      "[1. 0. 0. 0. 0. 0. 0. 0. 0. 0. 0. 0. 0. 0. 0. 0.] -1.3854427\n",
      "[0. 0. 0. 0. 0. 1. 0. 0. 0. 0. 0. 0. 0. 0. 0. 0.] -1.328263\n",
      "[0. 0. 0. 1. 0. 0. 0. 0. 0. 0. 0. 0. 0. 0. 0. 0.] -1.015735\n",
      "[0. 0. 0. 0. 1. 0. 0. 0. 0. 0. 0. 0. 0. 0. 0. 0.] -1.0778407\n",
      "[1. 0. 0. 0. 0. 0. 0. 0. 0. 0. 0. 0. 0. 0. 0. 0.] -0.9599339\n",
      "[1. 0. 0. 0. 0. 0. 0. 0. 0. 0. 0. 0. 0. 0. 0. 0.] -0.675817\n",
      "[1. 0. 0. 0. 0. 0. 0. 0. 0. 0. 0. 0. 0. 0. 0. 0.] -0.6461376\n",
      "[0. 0. 0. 0. 0. 1. 0. 0. 0. 0. 0. 0. 0. 0. 0. 0.] -0.5777777\n",
      "[0. 0. 0. 1. 0. 0. 0. 0. 0. 0. 0. 0. 0. 0. 0. 0.] -0.47410473\n",
      "[0. 0. 0. 0. 1. 0. 0. 0. 0. 0. 0. 0. 0. 0. 0. 0.] -0.49671125\n",
      "[1. 0. 0. 0. 0. 0. 0. 0. 0. 0. 0. 0. 0. 0. 0. 0.] -0.5014522\n",
      "[0. 0. 0. 0. 0. 1. 0. 0. 0. 0. 0. 0. 0. 0. 0. 0.] -0.54907256\n",
      "[0. 0. 0. 1. 0. 0. 0. 0. 0. 0. 0. 0. 0. 0. 0. 0.] -0.08923547\n",
      "[0. 0. 0. 0. 1. 0. 0. 0. 0. 0. 0. 0. 0. 0. 0. 0.] -0.069252126\n",
      "[1. 0. 0. 0. 0. 0. 0. 0. 0. 0. 0. 0. 0. 0. 0. 0.] -0.04622341\n",
      "[0. 0. 0. 0. 0. 1. 0. 0. 0. 0. 0. 0. 0. 0. 0. 0.] -0.034832153\n",
      "[1. 0. 0. 0. 0. 0. 0. 0. 0. 0. 0. 0. 0. 0. 0. 0.] -0.034851108\n",
      "[0. 0. 0. 0. 0. 1. 0. 0. 0. 0. 0. 0. 0. 0. 0. 0.] -0.034850724\n",
      "[1. 0. 0. 0. 0. 0. 0. 0. 0. 0. 0. 0. 0. 0. 0. 0.] -0.034850344\n",
      "[0. 0. 0. 0. 0. 1. 0. 0. 0. 0. 0. 0. 0. 0. 0. 0.] -0.03484996\n",
      "[1. 0. 0. 0. 0. 0. 0. 0. 0. 0. 0. 0. 0. 0. 0. 0.] -0.0348518\n",
      "[0. 0. 0. 0. 0. 1. 0. 0. 0. 0. 0. 0. 0. 0. 0. 0.] -0.03485451\n",
      "[1. 0. 0. 0. 0. 0. 0. 0. 0. 0. 0. 0. 0. 0. 0. 0.] -0.034857213\n",
      "[0. 0. 0. 0. 0. 1. 0. 0. 0. 0. 0. 0. 0. 0. 0. 0.] -0.034859918\n",
      "[1. 0. 0. 0. 0. 0. 0. 0. 0. 0. 0. 0. 0. 0. 0. 0.] -0.03486111\n",
      "[0. 0. 0. 0. 0. 1. 0. 0. 0. 0. 0. 0. 0. 0. 0. 0.] -0.03486111\n",
      "[1. 0. 0. 0. 0. 0. 0. 0. 0. 0. 0. 0. 0. 0. 0. 0.] -0.03486111\n",
      "[0. 0. 0. 0. 0. 1. 0. 0. 0. 0. 0. 0. 0. 0. 0. 0.] -0.03486111\n",
      "[1. 0. 0. 0. 0. 0. 0. 0. 0. 0. 0. 0. 0. 0. 0. 0.] -0.03486111\n",
      "[0. 0. 0. 0. 0. 1. 0. 0. 0. 0. 0. 0. 0. 0. 0. 0.] -0.03486111\n",
      "[1. 0. 0. 0. 0. 0. 0. 0. 0. 0. 0. 0. 0. 0. 0. 0.] -0.03486111\n",
      "[0. 0. 0. 0. 0. 1. 0. 0. 0. 0. 0. 0. 0. 0. 0. 0.] -0.03486111\n",
      "done\n"
     ]
    },
    {
     "data": {
      "text/html": [
       "<table class=\"show_videos\" style=\"border-spacing:0px;\"><tr><td style=\"padding:1px;\"><video controls width=\"320\" height=\"240\" style=\"object-fit:cover;\" loop autoplay muted>\n",
       "      <source src=\"data:video/mp4;base64,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\" type=\"video/mp4\"/>\n",
       "      This browser does not support the video tag.\n",
       "      </video></td></tr></table>"
      ],
      "text/plain": [
       "<IPython.core.display.HTML object>"
      ]
     },
     "metadata": {},
     "output_type": "display_data"
    }
   ],
   "source": [
    "# initialize the state\n",
    "rng = jax.random.PRNGKey(10)\n",
    "state = jit_reset(rng)\n",
    "rollout = [state.pipeline_state]\n",
    "\n",
    "# grab a trajectory\n",
    "n_steps = 40\n",
    "render_every = 2\n",
    "\n",
    "for i in range(n_steps):\n",
    "  act_rng, rng = jax.random.split(rng)\n",
    "  ctrl, _ = jit_inference_fn(state.obs, act_rng)\n",
    "  state = jit_step(state, ctrl)\n",
    "  rollout.append(state.pipeline_state)\n",
    "  # print(state.pipeline_state.qpos, state.reward)\n",
    "  print(ctrl, state.reward)\n",
    "  # print(state.done)\n",
    "  # if state.done:\n",
    "  #   break\n",
    "print(\"done\")\n",
    "# media.write_video('/home/tlee_theaiinstitute_com/mjx_brax_policy/rotate_90deg.mp4', env.render(rollout[::render_every], camera='top'), fps=1.0 / env.dt / render_every)\n",
    "media.show_video(env.render(rollout[::render_every], camera='top'), fps=1.0 / env.dt / render_every)"
   ]
  },
  {
   "cell_type": "code",
   "execution_count": null,
   "metadata": {},
   "outputs": [],
   "source": [
    "print(len(rollout))"
   ]
  },
  {
   "cell_type": "markdown",
   "metadata": {
    "id": "zR-heox6LARK"
   },
   "source": [
    "# MJX Policy in MuJoCo\n",
    "\n",
    "We can also perform the physics step using the original MuJoCo python bindings to show that the policy trained in MJX works in MuJoCo."
   ]
  },
  {
   "cell_type": "code",
   "execution_count": null,
   "metadata": {
    "id": "w6ixFi4dApBy"
   },
   "outputs": [],
   "source": [
    "mj_model = eval_env.sys.mj_model\n",
    "mj_data = mujoco.MjData(mj_model)\n",
    "\n",
    "renderer = mujoco.Renderer(mj_model)\n",
    "ctrl = jp.zeros(mj_model.nu)\n",
    "images = []\n",
    "for i in range(n_steps):\n",
    "  act_rng, rng = jax.random.split(rng)\n",
    "\n",
    "  obs = eval_env._get_obs(mjx.put_data(mj_model, mj_data), ctrl)\n",
    "  ctrl, _ = jit_inference_fn(obs, act_rng)\n",
    "  print(ctrl)\n",
    "  \n",
    "  mj_data.ctrl = ctrl\n",
    "  for _ in range(eval_env._n_frames):\n",
    "    mujoco.mj_step(mj_model, mj_data)  # Physics step using MuJoCo mj_step.\n",
    "  # print(mj_data.qpos)\n",
    "  if i % render_every == 0:\n",
    "    renderer.update_scene(mj_data, camera='side')\n",
    "    images.append(renderer.render())\n",
    "# plt.show(images[100])\n",
    "media.show_video(images) #, fps=1.0 / eval_env.dt / render_every)\n",
    "print(\"done\")\n",
    "# media.write_video('/home/tlee_theaiinstitute_com/mjx_brax_policy/test.mp4', images, fps=1.0 / env.dt / render_every)"
   ]
  },
  {
   "cell_type": "code",
   "execution_count": null,
   "metadata": {},
   "outputs": [],
   "source": [
    "mj_model = eval_env.sys.mj_model\n",
    "mj_data = mujoco.MjData(mj_model)\n",
    "mujoco.mj_step(mj_model, mj_data)\n",
    "renderer.update_scene(mj_data, camera='side')\n",
    "im = renderer.render()\n",
    "plt.imshow(im)"
   ]
  },
  {
   "cell_type": "markdown",
   "metadata": {
    "id": "65mIPj6DQNNa"
   },
   "source": [
    "# Training a Policy with Domain Randomization\n",
    "\n",
    "We might also want to include randomization over certain `mjModel` parameters while training a policy. In MJX, we can easily create a batch of environments with randomized values populated in `mjx.Model`. Below, we show a function that randomizes friction and actuator gain/bias."
   ]
  },
  {
   "cell_type": "code",
   "execution_count": null,
   "metadata": {
    "id": "h8mhzKjHQuoL"
   },
   "outputs": [],
   "source": [
    "def domain_randomize(sys, rng):\n",
    "  \"\"\"Randomizes the mjx.Model.\"\"\"\n",
    "  @jax.vmap\n",
    "  def rand(rng):\n",
    "    _, key = jax.random.split(rng, 2)\n",
    "    # friction\n",
    "    friction = jax.random.uniform(key, (1,), minval=0.6, maxval=1.4)\n",
    "    friction = sys.geom_friction.at[:, 0].set(friction)\n",
    "    # actuator\n",
    "    _, key = jax.random.split(key, 2)\n",
    "    gain_range = (-5, 5)\n",
    "    param = jax.random.uniform(\n",
    "        key, (1,), minval=gain_range[0], maxval=gain_range[1]\n",
    "    ) + sys.actuator_gainprm[:, 0]\n",
    "    gain = sys.actuator_gainprm.at[:, 0].set(param)\n",
    "    bias = sys.actuator_biasprm.at[:, 1].set(-param)\n",
    "    return friction, gain, bias\n",
    "\n",
    "  friction, gain, bias = rand(rng)\n",
    "\n",
    "  in_axes = jax.tree_util.tree_map(lambda x: None, sys)\n",
    "  in_axes = in_axes.tree_replace({\n",
    "      'geom_friction': 0,\n",
    "      'actuator_gainprm': 0,\n",
    "      'actuator_biasprm': 0,\n",
    "  })\n",
    "\n",
    "  sys = sys.tree_replace({\n",
    "      'geom_friction': friction,\n",
    "      'actuator_gainprm': gain,\n",
    "      'actuator_biasprm': bias,\n",
    "  })\n",
    "\n",
    "  return sys, in_axes"
   ]
  },
  {
   "cell_type": "markdown",
   "metadata": {
    "id": "gnsZo-GWSYYj"
   },
   "source": [
    "If we wanted 10 environments with randomized friction and actuator params, we can call `domain_randomize`, which returns a batched `mjx.Model` along with a dictionary specifying the axes that are batched."
   ]
  },
  {
   "cell_type": "code",
   "execution_count": null,
   "metadata": {
    "id": "1K45Kp2ASV9s"
   },
   "outputs": [],
   "source": [
    "rng = jax.random.PRNGKey(0)\n",
    "rng = jax.random.split(rng, 10)\n",
    "batched_sys, _ = domain_randomize(env.sys, rng)\n",
    "\n",
    "print('Single env friction shape: ', env.sys.geom_friction.shape)\n",
    "print('Batched env friction shape: ', batched_sys.geom_friction.shape)\n",
    "\n",
    "print('Friction on geom 0: ', env.sys.geom_friction[0, 0])\n",
    "print('Random frictions on geom 0: ', batched_sys.geom_friction[:, 0, 0])"
   ]
  }
 ],
 "metadata": {
  "accelerator": "GPU",
  "colab": {
   "gpuClass": "premium",
   "gpuType": "V100",
   "machine_shape": "hm",
   "private_outputs": true,
   "toc_visible": true
  },
  "kernelspec": {
   "display_name": "Python 3",
   "name": "python3"
  },
  "language_info": {
   "codemirror_mode": {
    "name": "ipython",
    "version": 3
   },
   "file_extension": ".py",
   "mimetype": "text/x-python",
   "name": "python",
   "nbconvert_exporter": "python",
   "pygments_lexer": "ipython3",
   "version": "3.10.12"
  }
 },
 "nbformat": 4,
 "nbformat_minor": 0
}
